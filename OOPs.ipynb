{
 "cells": [
  {
   "cell_type": "markdown",
   "id": "6df36c4f",
   "metadata": {},
   "source": [
    "### Object Oriented Programming in Python"
   ]
  },
  {
   "cell_type": "markdown",
   "id": "6a615062",
   "metadata": {},
   "source": [
    "OOP is a Programming pattern that provides a mean of structuring program so that the properties and behaviour are bundled into a single object.\n",
    "\n",
    "Object can be considered as a real world instance of the class that contains some characteristics and behviour.\n",
    "\n",
    "\n",
    "\n",
    "\n",
    "\n",
    "**Class**\n",
    "\n",
    "1) A user defined prototype that defines a set of attribute and method that charcterize      any object of the class.\n",
    "   \n",
    "   The attributes are (class variable and instance variable) & method are (functions or      behaviour)\n",
    "   \n",
    "**Objects** \n",
    "\n",
    "\n",
    "2) Object can be considered as a real world instance of the class that contains some characteristics and behviour. "
   ]
  },
  {
   "cell_type": "code",
   "execution_count": null,
   "id": "dd962aca",
   "metadata": {},
   "outputs": [],
   "source": []
  },
  {
   "cell_type": "code",
   "execution_count": null,
   "id": "86cc2449",
   "metadata": {},
   "outputs": [],
   "source": [
    "class Bird:\n",
    "    pass"
   ]
  },
  {
   "cell_type": "code",
   "execution_count": 3,
   "id": "cbc785f3",
   "metadata": {},
   "outputs": [
    {
     "data": {
      "text/plain": [
       "<__main__.Bird at 0x7fa82c1a3820>"
      ]
     },
     "execution_count": 3,
     "metadata": {},
     "output_type": "execute_result"
    }
   ],
   "source": [
    "Bird()"
   ]
  },
  {
   "cell_type": "code",
   "execution_count": 4,
   "id": "add410b2",
   "metadata": {},
   "outputs": [],
   "source": [
    "b1 = Bird()  #object for bird class"
   ]
  },
  {
   "cell_type": "code",
   "execution_count": 5,
   "id": "1b3f0111",
   "metadata": {},
   "outputs": [],
   "source": [
    "b2 = Bird()"
   ]
  },
  {
   "cell_type": "code",
   "execution_count": 6,
   "id": "8117f7e1",
   "metadata": {},
   "outputs": [
    {
     "name": "stdout",
     "output_type": "stream",
     "text": [
      "140360270142048\n",
      "140359777868720\n"
     ]
    }
   ],
   "source": [
    "print(id(b1))\n",
    "print(id(b2))"
   ]
  },
  {
   "cell_type": "markdown",
   "id": "5f9997d6",
   "metadata": {},
   "source": [
    "## Instance Variable"
   ]
  },
  {
   "cell_type": "code",
   "execution_count": 7,
   "id": "ba1a386d",
   "metadata": {},
   "outputs": [],
   "source": [
    "class Employee:\n",
    "    def __init__(self,full_name,salary,designation,location):\n",
    "        '''\n",
    "        Registering properties (variables) in constructor\n",
    "        '''\n",
    "        self.full_name = full_name\n",
    "        self.salary = salary\n",
    "        self.desgn = designation\n",
    "        self.location = location\n",
    "        \n",
    "    def print_data(self):\n",
    "        '''\n",
    "        This is a method\n",
    "        '''\n",
    "        print(f'Full Name is {self.full_name}')\n",
    "        print(f'Salary is {self.salary}')\n",
    "        print(f'Designation is {self.desgn}')\n",
    "        print(f'Location is {self.location}')"
   ]
  },
  {
   "cell_type": "code",
   "execution_count": 9,
   "id": "b81951fa",
   "metadata": {},
   "outputs": [],
   "source": [
    "e1 = Employee(\"Good Coder\",5000,'SDE','Andheri')"
   ]
  },
  {
   "cell_type": "code",
   "execution_count": 10,
   "id": "290f4f06",
   "metadata": {},
   "outputs": [
    {
     "data": {
      "text/plain": [
       "'Good Coder'"
      ]
     },
     "execution_count": 10,
     "metadata": {},
     "output_type": "execute_result"
    }
   ],
   "source": [
    "e1.full_name"
   ]
  },
  {
   "cell_type": "code",
   "execution_count": 11,
   "id": "30df224d",
   "metadata": {},
   "outputs": [
    {
     "data": {
      "text/plain": [
       "5000"
      ]
     },
     "execution_count": 11,
     "metadata": {},
     "output_type": "execute_result"
    }
   ],
   "source": [
    "e1.salary"
   ]
  },
  {
   "cell_type": "code",
   "execution_count": 12,
   "id": "3ac4f00b",
   "metadata": {},
   "outputs": [
    {
     "data": {
      "text/plain": [
       "'SDE'"
      ]
     },
     "execution_count": 12,
     "metadata": {},
     "output_type": "execute_result"
    }
   ],
   "source": [
    "e1.desgn"
   ]
  },
  {
   "cell_type": "code",
   "execution_count": 13,
   "id": "3cbed313",
   "metadata": {},
   "outputs": [
    {
     "data": {
      "text/plain": [
       "'Andheri'"
      ]
     },
     "execution_count": 13,
     "metadata": {},
     "output_type": "execute_result"
    }
   ],
   "source": [
    "e1.location"
   ]
  },
  {
   "cell_type": "code",
   "execution_count": 14,
   "id": "d8519a80",
   "metadata": {},
   "outputs": [
    {
     "name": "stdout",
     "output_type": "stream",
     "text": [
      "Full Name is Good Coder\n",
      "Salary is 5000\n",
      "Designation is SDE\n",
      "Location is Andheri\n"
     ]
    }
   ],
   "source": [
    "e1.print_data()"
   ]
  },
  {
   "cell_type": "code",
   "execution_count": null,
   "id": "f3e2a1db",
   "metadata": {},
   "outputs": [],
   "source": []
  },
  {
   "cell_type": "markdown",
   "id": "0234b83d",
   "metadata": {},
   "source": [
    "## class variable : \n",
    "\n",
    "Any variable that is declared inside the class but outside the constructor is called as \n",
    "class variable"
   ]
  },
  {
   "cell_type": "code",
   "execution_count": 1,
   "id": "827dd43e",
   "metadata": {},
   "outputs": [],
   "source": [
    "class PayRoll:\n",
    "    increment_rate = 2   #this is a class variable\n",
    "    \n",
    "    def __init__(self,full_name,designation,location,salary):\n",
    "        self.full_name = full_name\n",
    "        self.designation = designation\n",
    "        self.location = location\n",
    "        self.salary = salary\n",
    "        \n",
    "        \n",
    "    def info(self):\n",
    "        print(f'Full Name is {self.full_name}')\n",
    "        print(f'Designation is {self.designation}')\n",
    "        print(f'location is {self.location}')\n",
    "        print(f'Salary is {self.salary}')\n",
    "        \n",
    "        \n",
    "    def raise_salary(self):\n",
    "        self.salary = self.salary * self.increment_rate"
   ]
  },
  {
   "cell_type": "code",
   "execution_count": 2,
   "id": "0ef0561d",
   "metadata": {},
   "outputs": [],
   "source": [
    "p1 = PayRoll('Good Coder','SDE','Andheri',5000)"
   ]
  },
  {
   "cell_type": "code",
   "execution_count": 3,
   "id": "624b9b2a",
   "metadata": {},
   "outputs": [
    {
     "name": "stdout",
     "output_type": "stream",
     "text": [
      "Full Name is Good Coder\n",
      "Designation is SDE\n",
      "location is Andheri\n",
      "Salary is 5000\n"
     ]
    }
   ],
   "source": [
    "p1.info()"
   ]
  },
  {
   "cell_type": "code",
   "execution_count": 4,
   "id": "57438e3f",
   "metadata": {},
   "outputs": [],
   "source": [
    "p1.raise_salary()"
   ]
  },
  {
   "cell_type": "code",
   "execution_count": 5,
   "id": "da996a3b",
   "metadata": {},
   "outputs": [
    {
     "name": "stdout",
     "output_type": "stream",
     "text": [
      "Full Name is Good Coder\n",
      "Designation is SDE\n",
      "location is Andheri\n",
      "Salary is 10000\n"
     ]
    }
   ],
   "source": [
    "p1.info()"
   ]
  },
  {
   "cell_type": "code",
   "execution_count": 6,
   "id": "1627249a",
   "metadata": {},
   "outputs": [],
   "source": [
    "p2 = PayRoll('Demo User','WD','Bandra',7000)"
   ]
  },
  {
   "cell_type": "code",
   "execution_count": 7,
   "id": "c4fc13a6",
   "metadata": {},
   "outputs": [
    {
     "data": {
      "text/plain": [
       "2"
      ]
     },
     "execution_count": 7,
     "metadata": {},
     "output_type": "execute_result"
    }
   ],
   "source": [
    "p2.increment_rate"
   ]
  },
  {
   "cell_type": "code",
   "execution_count": 8,
   "id": "4c777a78",
   "metadata": {},
   "outputs": [],
   "source": [
    "p3 = PayRoll('Punit K','DE','USA',10000)"
   ]
  },
  {
   "cell_type": "code",
   "execution_count": 9,
   "id": "b901bc71",
   "metadata": {},
   "outputs": [],
   "source": [
    "p3.increment_rate = 3"
   ]
  },
  {
   "cell_type": "code",
   "execution_count": 10,
   "id": "07d765b0",
   "metadata": {},
   "outputs": [],
   "source": [
    "p3.raise_salary()"
   ]
  },
  {
   "cell_type": "code",
   "execution_count": 11,
   "id": "a9d211aa",
   "metadata": {},
   "outputs": [
    {
     "name": "stdout",
     "output_type": "stream",
     "text": [
      "Full Name is Punit K\n",
      "Designation is DE\n",
      "location is USA\n",
      "Salary is 30000\n"
     ]
    }
   ],
   "source": [
    "p3.info()"
   ]
  },
  {
   "cell_type": "code",
   "execution_count": 12,
   "id": "e894254a",
   "metadata": {},
   "outputs": [],
   "source": [
    "p4 = PayRoll('Alpha','DA','Mumbai',4000)"
   ]
  },
  {
   "cell_type": "code",
   "execution_count": 13,
   "id": "3ce811d7",
   "metadata": {},
   "outputs": [
    {
     "data": {
      "text/plain": [
       "2"
      ]
     },
     "execution_count": 13,
     "metadata": {},
     "output_type": "execute_result"
    }
   ],
   "source": [
    "p4.increment_rate"
   ]
  },
  {
   "cell_type": "markdown",
   "id": "8f385b4d",
   "metadata": {},
   "source": [
    "### class method"
   ]
  },
  {
   "cell_type": "code",
   "execution_count": 14,
   "id": "c3f4517b",
   "metadata": {},
   "outputs": [],
   "source": [
    "class EmpPayRoll:\n",
    "    increment_rate = 2  #class variable\n",
    "    \n",
    "    def __init__(self,full_name,department,designation,salary):\n",
    "        self.full_name = full_name\n",
    "        self.department = department\n",
    "        self.designation = designation\n",
    "        self.salary = salary\n",
    "        \n",
    "    def print_emp_info(self):\n",
    "        print(f'Name is {self.full_name}')\n",
    "        print(f'Department is {self.department}')\n",
    "        print(f'Designation is {self.designation}')\n",
    "        print(f'Salary is {self.salary}')\n",
    "        \n",
    "        \n",
    "    def apply_raise(self):\n",
    "        self.salary = self.salary * self.increment_rate\n",
    "        \n",
    "    @classmethod    \n",
    "    def set_raise_amount(cls,rate):\n",
    "        cls.increment_rate = rate"
   ]
  },
  {
   "cell_type": "code",
   "execution_count": 15,
   "id": "aa840195",
   "metadata": {},
   "outputs": [],
   "source": [
    "ep1 = EmpPayRoll(\"Good Coder\",\"IT\",'SDE',5000)"
   ]
  },
  {
   "cell_type": "code",
   "execution_count": 16,
   "id": "afd235e0",
   "metadata": {},
   "outputs": [
    {
     "data": {
      "text/plain": [
       "2"
      ]
     },
     "execution_count": 16,
     "metadata": {},
     "output_type": "execute_result"
    }
   ],
   "source": [
    "ep1.increment_rate"
   ]
  },
  {
   "cell_type": "code",
   "execution_count": 17,
   "id": "c40dcb8c",
   "metadata": {},
   "outputs": [],
   "source": [
    "ep1.apply_raise()"
   ]
  },
  {
   "cell_type": "code",
   "execution_count": 18,
   "id": "aa75d431",
   "metadata": {},
   "outputs": [
    {
     "name": "stdout",
     "output_type": "stream",
     "text": [
      "Name is Good Coder\n",
      "Department is IT\n",
      "Designation is SDE\n",
      "Salary is 10000\n"
     ]
    }
   ],
   "source": [
    "ep1.print_emp_info()"
   ]
  },
  {
   "cell_type": "code",
   "execution_count": 19,
   "id": "cbaec3bd",
   "metadata": {},
   "outputs": [],
   "source": [
    "ep1.set_raise_amount(4)"
   ]
  },
  {
   "cell_type": "code",
   "execution_count": 20,
   "id": "2b46b478",
   "metadata": {},
   "outputs": [],
   "source": [
    "ep2 = EmpPayRoll(\"Punit K\",\"Analytics\",\"DA\",8000)"
   ]
  },
  {
   "cell_type": "code",
   "execution_count": 21,
   "id": "3871c8b7",
   "metadata": {},
   "outputs": [
    {
     "data": {
      "text/plain": [
       "4"
      ]
     },
     "execution_count": 21,
     "metadata": {},
     "output_type": "execute_result"
    }
   ],
   "source": [
    "ep2.increment_rate"
   ]
  },
  {
   "cell_type": "code",
   "execution_count": 22,
   "id": "14042e01",
   "metadata": {},
   "outputs": [],
   "source": [
    "ep2.apply_raise()"
   ]
  },
  {
   "cell_type": "code",
   "execution_count": 23,
   "id": "3aea7137",
   "metadata": {},
   "outputs": [
    {
     "name": "stdout",
     "output_type": "stream",
     "text": [
      "Name is Punit K\n",
      "Department is Analytics\n",
      "Designation is DA\n",
      "Salary is 32000\n"
     ]
    }
   ],
   "source": [
    "ep2.print_emp_info()"
   ]
  },
  {
   "cell_type": "code",
   "execution_count": null,
   "id": "1f38d8eb",
   "metadata": {},
   "outputs": [],
   "source": []
  },
  {
   "cell_type": "markdown",
   "id": "14830307",
   "metadata": {},
   "source": [
    "## Static method"
   ]
  },
  {
   "cell_type": "markdown",
   "id": "42513f39",
   "metadata": {},
   "source": [
    "A static method is a built in feature where it does not recieve any reference argument whether it is called by instance or called by class itself."
   ]
  },
  {
   "cell_type": "code",
   "execution_count": null,
   "id": "8ad2b96a",
   "metadata": {},
   "outputs": [],
   "source": []
  },
  {
   "cell_type": "code",
   "execution_count": 1,
   "id": "829c6891",
   "metadata": {},
   "outputs": [],
   "source": [
    "class Student:\n",
    "    name = \"demo student\"\n",
    "    def __init__(self,age):\n",
    "        self.age = age\n",
    "    @staticmethod    \n",
    "    def college_name():\n",
    "        clg_name = \"ITV\"\n",
    "        print(\"college name is\",clg_name)"
   ]
  },
  {
   "cell_type": "code",
   "execution_count": 2,
   "id": "0b2be0ea",
   "metadata": {},
   "outputs": [],
   "source": [
    "s1 = Student(22)"
   ]
  },
  {
   "cell_type": "code",
   "execution_count": 3,
   "id": "1d82e792",
   "metadata": {},
   "outputs": [
    {
     "data": {
      "text/plain": [
       "22"
      ]
     },
     "execution_count": 3,
     "metadata": {},
     "output_type": "execute_result"
    }
   ],
   "source": [
    "s1.age"
   ]
  },
  {
   "cell_type": "code",
   "execution_count": 4,
   "id": "6c2bc4bc",
   "metadata": {},
   "outputs": [
    {
     "data": {
      "text/plain": [
       "'demo student'"
      ]
     },
     "execution_count": 4,
     "metadata": {},
     "output_type": "execute_result"
    }
   ],
   "source": [
    "s1.name"
   ]
  },
  {
   "cell_type": "code",
   "execution_count": 5,
   "id": "92dcb2ac",
   "metadata": {},
   "outputs": [
    {
     "name": "stdout",
     "output_type": "stream",
     "text": [
      "college name is ITV\n"
     ]
    }
   ],
   "source": [
    "s1.college_name()"
   ]
  },
  {
   "cell_type": "code",
   "execution_count": 6,
   "id": "3590c5f3",
   "metadata": {},
   "outputs": [
    {
     "name": "stdout",
     "output_type": "stream",
     "text": [
      "college name is ITV\n"
     ]
    }
   ],
   "source": [
    "Student.college_name()"
   ]
  },
  {
   "cell_type": "code",
   "execution_count": null,
   "id": "1f85be58",
   "metadata": {},
   "outputs": [],
   "source": []
  },
  {
   "cell_type": "code",
   "execution_count": 9,
   "id": "4671b537",
   "metadata": {},
   "outputs": [],
   "source": [
    "s1.clg_name = \"abcde\""
   ]
  },
  {
   "cell_type": "code",
   "execution_count": 10,
   "id": "0cf418ba",
   "metadata": {},
   "outputs": [
    {
     "name": "stdout",
     "output_type": "stream",
     "text": [
      "college name is ITV\n"
     ]
    }
   ],
   "source": [
    "s1.college_name()"
   ]
  },
  {
   "cell_type": "code",
   "execution_count": null,
   "id": "b9c49331",
   "metadata": {},
   "outputs": [],
   "source": []
  },
  {
   "cell_type": "markdown",
   "id": "04b1814e",
   "metadata": {},
   "source": [
    "## Inheritence"
   ]
  },
  {
   "cell_type": "markdown",
   "id": "4546b252",
   "metadata": {},
   "source": [
    "1. Single inheritence : in single inheritence there is only single parent and single child"
   ]
  },
  {
   "cell_type": "code",
   "execution_count": 11,
   "id": "09cf5cf9",
   "metadata": {},
   "outputs": [],
   "source": [
    "class Parent:\n",
    "    def can_earn(self):\n",
    "        print(\"Parents can earn\")\n",
    "\n",
    "class Child(Parent):\n",
    "    def can_play(self):\n",
    "        print(\"Child can play \")"
   ]
  },
  {
   "cell_type": "code",
   "execution_count": 12,
   "id": "1c97af69",
   "metadata": {},
   "outputs": [],
   "source": [
    "p1 = Parent()"
   ]
  },
  {
   "cell_type": "code",
   "execution_count": 13,
   "id": "492f7b28",
   "metadata": {},
   "outputs": [
    {
     "name": "stdout",
     "output_type": "stream",
     "text": [
      "Parents can earn\n"
     ]
    }
   ],
   "source": [
    "p1.can_earn()"
   ]
  },
  {
   "cell_type": "code",
   "execution_count": 14,
   "id": "c0b92cb0",
   "metadata": {},
   "outputs": [
    {
     "ename": "AttributeError",
     "evalue": "'Parent' object has no attribute 'can_play'",
     "output_type": "error",
     "traceback": [
      "\u001b[0;31m---------------------------------------------------------------------------\u001b[0m",
      "\u001b[0;31mAttributeError\u001b[0m                            Traceback (most recent call last)",
      "\u001b[0;32m<ipython-input-14-0164463034ee>\u001b[0m in \u001b[0;36m<module>\u001b[0;34m\u001b[0m\n\u001b[0;32m----> 1\u001b[0;31m \u001b[0mp1\u001b[0m\u001b[0;34m.\u001b[0m\u001b[0mcan_play\u001b[0m\u001b[0;34m(\u001b[0m\u001b[0;34m)\u001b[0m\u001b[0;34m\u001b[0m\u001b[0;34m\u001b[0m\u001b[0m\n\u001b[0m",
      "\u001b[0;31mAttributeError\u001b[0m: 'Parent' object has no attribute 'can_play'"
     ]
    }
   ],
   "source": [
    "p1.can_play()"
   ]
  },
  {
   "cell_type": "code",
   "execution_count": 15,
   "id": "fe355f3c",
   "metadata": {},
   "outputs": [],
   "source": [
    "c1 = Child()"
   ]
  },
  {
   "cell_type": "code",
   "execution_count": 16,
   "id": "180ff193",
   "metadata": {},
   "outputs": [
    {
     "name": "stdout",
     "output_type": "stream",
     "text": [
      "Child can play \n"
     ]
    }
   ],
   "source": [
    "c1.can_play()"
   ]
  },
  {
   "cell_type": "code",
   "execution_count": 17,
   "id": "6af6a787",
   "metadata": {},
   "outputs": [
    {
     "name": "stdout",
     "output_type": "stream",
     "text": [
      "Parents can earn\n"
     ]
    }
   ],
   "source": [
    "c1.can_earn()"
   ]
  },
  {
   "cell_type": "code",
   "execution_count": null,
   "id": "7fdd8375",
   "metadata": {},
   "outputs": [],
   "source": []
  },
  {
   "cell_type": "markdown",
   "id": "de9dad48",
   "metadata": {},
   "source": [
    "## Multiple inheritence"
   ]
  },
  {
   "cell_type": "markdown",
   "id": "b0b6fb88",
   "metadata": {},
   "source": [
    "In multiple inehritence the child class can inherit the property of one or more parent class."
   ]
  },
  {
   "cell_type": "code",
   "execution_count": null,
   "id": "c093b0c2",
   "metadata": {},
   "outputs": [],
   "source": []
  },
  {
   "cell_type": "code",
   "execution_count": 18,
   "id": "4829219d",
   "metadata": {},
   "outputs": [],
   "source": [
    "class Mom:\n",
    "    def can_cook_can_earn(self):\n",
    "        print(\"Mom can cook and mom can earn \")\n",
    "        \n",
    "class Father:\n",
    "    def can_earn(self):\n",
    "        print(\"Father can only earn but cannot cook \")\n",
    "        \n",
    "    \n",
    "class Child(Father,Mom):\n",
    "    def can_play(self):\n",
    "        print(\"Child can play but cannot earn or cook\")"
   ]
  },
  {
   "cell_type": "code",
   "execution_count": 19,
   "id": "360628b3",
   "metadata": {},
   "outputs": [],
   "source": [
    "m1 = Mom()"
   ]
  },
  {
   "cell_type": "code",
   "execution_count": 20,
   "id": "4ad758c2",
   "metadata": {},
   "outputs": [
    {
     "name": "stdout",
     "output_type": "stream",
     "text": [
      "Mom can cook and mom can earn \n"
     ]
    }
   ],
   "source": [
    "m1.can_cook_can_earn()"
   ]
  },
  {
   "cell_type": "code",
   "execution_count": 21,
   "id": "eade61f8",
   "metadata": {},
   "outputs": [],
   "source": [
    "f1 = Father()"
   ]
  },
  {
   "cell_type": "code",
   "execution_count": 22,
   "id": "f37d19a9",
   "metadata": {},
   "outputs": [
    {
     "name": "stdout",
     "output_type": "stream",
     "text": [
      "Father can only earn but cannot cook \n"
     ]
    }
   ],
   "source": [
    "f1.can_earn()"
   ]
  },
  {
   "cell_type": "code",
   "execution_count": null,
   "id": "395f53c6",
   "metadata": {},
   "outputs": [],
   "source": []
  },
  {
   "cell_type": "code",
   "execution_count": 23,
   "id": "819157bb",
   "metadata": {},
   "outputs": [],
   "source": [
    "c1 = Child()"
   ]
  },
  {
   "cell_type": "code",
   "execution_count": 24,
   "id": "e8c9e10d",
   "metadata": {},
   "outputs": [
    {
     "name": "stdout",
     "output_type": "stream",
     "text": [
      "Child can play but cannot earn or cook\n"
     ]
    }
   ],
   "source": [
    "c1.can_play()"
   ]
  },
  {
   "cell_type": "code",
   "execution_count": 25,
   "id": "d74c3376",
   "metadata": {},
   "outputs": [
    {
     "name": "stdout",
     "output_type": "stream",
     "text": [
      "Father can only earn but cannot cook \n"
     ]
    }
   ],
   "source": [
    "c1.can_earn()"
   ]
  },
  {
   "cell_type": "code",
   "execution_count": 26,
   "id": "32386083",
   "metadata": {},
   "outputs": [
    {
     "name": "stdout",
     "output_type": "stream",
     "text": [
      "Mom can cook and mom can earn \n"
     ]
    }
   ],
   "source": [
    "c1.can_cook_can_earn()"
   ]
  },
  {
   "cell_type": "code",
   "execution_count": 27,
   "id": "e44eb0c0",
   "metadata": {},
   "outputs": [
    {
     "name": "stdout",
     "output_type": "stream",
     "text": [
      "Employee name is Good coder\n",
      "Employee Id is 123\n",
      "Employee Job is SDE\n",
      "Employee Pay is 5000\n",
      "Employee Experience is 1\n"
     ]
    }
   ],
   "source": [
    "class TeamMember:\n",
    "    def __init__(self,name,empId):\n",
    "        self.name = name\n",
    "        self.empId = empId\n",
    "\n",
    "\n",
    "class Worker:\n",
    "    def __init__(self,job_title,pay):\n",
    "        self.job_title = job_title\n",
    "        self.pay = pay\n",
    "\n",
    "class TeamLeader(TeamMember,Worker):\n",
    "    def __init__(self,name,empId,job_title,pay,experience):\n",
    "        TeamMember.__init__(self,name,empId) #registration\n",
    "        Worker.__init__(self,job_title,pay)\n",
    "        self.experience = experience\n",
    "\n",
    "    def print_info(self):\n",
    "        print(\"Employee name is\",self.name)\n",
    "        print(\"Employee Id is\",self.empId)\n",
    "        print(\"Employee Job is\",self.job_title)\n",
    "        print(\"Employee Pay is\",self.pay)\n",
    "        print(\"Employee Experience is\",self.experience)\n",
    "\n",
    "\n",
    "tl = TeamLeader(\"Good coder\",123,\"SDE\",5000,1)\n",
    "tl.print_info()"
   ]
  },
  {
   "cell_type": "markdown",
   "id": "129038e1",
   "metadata": {},
   "source": [
    "## Multilevel inheritence"
   ]
  },
  {
   "cell_type": "code",
   "execution_count": 28,
   "id": "6abb9a4e",
   "metadata": {},
   "outputs": [
    {
     "name": "stdout",
     "output_type": "stream",
     "text": [
      "Son is studying\n",
      "Father has 1 BHK flat\n",
      "Grand Father has 100 acers of property\n"
     ]
    }
   ],
   "source": [
    "class GrandFather:\n",
    "    def grand_father_prop(self):\n",
    "        print(\"Grand Father has 100 acers of property\")\n",
    "\n",
    "\n",
    "class Father(GrandFather):\n",
    "    def father_property(self):\n",
    "        print(\"Father has 1 BHK flat\")\n",
    "\n",
    "\n",
    "class Son(Father):\n",
    "    def son_property(self):\n",
    "        print(\"Son is studying\")\n",
    "\n",
    "\n",
    "s1 = Son()\n",
    "\n",
    "s1.son_property()\n",
    "s1.father_property()\n",
    "s1.grand_father_prop()"
   ]
  },
  {
   "cell_type": "code",
   "execution_count": null,
   "id": "6a0308d2",
   "metadata": {},
   "outputs": [],
   "source": []
  },
  {
   "cell_type": "code",
   "execution_count": 1,
   "id": "6c882fef",
   "metadata": {},
   "outputs": [
    {
     "name": "stdout",
     "output_type": "stream",
     "text": [
      "Hi I am a constructor in CL1 class\n",
      "I am getting printed from CL2 50\n",
      "I am getting printed from CL1 150\n"
     ]
    }
   ],
   "source": [
    "class CL1:\n",
    "    def __init__(self):\n",
    "        print(\"Hi I am a constructor in CL1 class\")\n",
    "\n",
    "    def print_num(self,num):\n",
    "        print(\"I am getting printed from CL1\",num)\n",
    "\n",
    "\n",
    "class CL2(CL1):\n",
    "    def __init__(self):\n",
    "        super().__init__()\n",
    "        # print(\"I am a constructor in CL2 class\")\n",
    "\n",
    "    def print_num(self,num):\n",
    "        print(\"I am getting printed from CL2\",num)\n",
    "        super().print_num(150)\n",
    "\n",
    "\n",
    "class CL3(CL2):\n",
    "    def __init__(self):\n",
    "        # print(\"I am getting printed from CL3\")\n",
    "        super().__init__()\n",
    "\n",
    "    def print_num(self,num):\n",
    "        # print(\"I am getting printed from CL3\",num)\n",
    "        super().print_num(50)\n",
    "\n",
    "\n",
    "# obj = CL3()\n",
    "# obj.print_num(10)\n",
    "\n",
    "obj1 = CL3()\n",
    "obj1.print_num(50)"
   ]
  },
  {
   "cell_type": "markdown",
   "id": "1dae8581",
   "metadata": {},
   "source": [
    "## Hierarchical inheritance"
   ]
  },
  {
   "cell_type": "code",
   "execution_count": 3,
   "id": "a319caed",
   "metadata": {},
   "outputs": [],
   "source": [
    "class Parent:\n",
    "    def can_earn(self):\n",
    "        print(\"Parents Can Earn\")\n",
    "        \n",
    "class Child1(Parent):\n",
    "    def can_swim_can_skate(self):\n",
    "        print(\"Child 1 can swim and child 1 can skate\")\n",
    "        \n",
    "class Child2(Parent):\n",
    "    def can_sing_can_run(self):\n",
    "        print(\"Child 2 can sing and child 2 can run\")"
   ]
  },
  {
   "cell_type": "code",
   "execution_count": 4,
   "id": "af5db3e1",
   "metadata": {},
   "outputs": [],
   "source": [
    "chld1 = Child1()"
   ]
  },
  {
   "cell_type": "code",
   "execution_count": 5,
   "id": "112c412a",
   "metadata": {},
   "outputs": [
    {
     "name": "stdout",
     "output_type": "stream",
     "text": [
      "Child 1 can swim and child 1 can skate\n"
     ]
    }
   ],
   "source": [
    "chld1.can_swim_can_skate()"
   ]
  },
  {
   "cell_type": "code",
   "execution_count": 6,
   "id": "84e64843",
   "metadata": {},
   "outputs": [],
   "source": [
    "chld2 = Child2()"
   ]
  },
  {
   "cell_type": "code",
   "execution_count": 7,
   "id": "cb555dd0",
   "metadata": {},
   "outputs": [
    {
     "name": "stdout",
     "output_type": "stream",
     "text": [
      "Child 2 can sing and child 2 can run\n"
     ]
    }
   ],
   "source": [
    "chld2.can_sing_can_run()"
   ]
  },
  {
   "cell_type": "code",
   "execution_count": 8,
   "id": "e9fd326c",
   "metadata": {},
   "outputs": [
    {
     "name": "stdout",
     "output_type": "stream",
     "text": [
      "Parents Can Earn\n"
     ]
    }
   ],
   "source": [
    "chld2.can_earn()"
   ]
  },
  {
   "cell_type": "markdown",
   "id": "9e5fde0c",
   "metadata": {},
   "source": [
    "## Hybrid "
   ]
  },
  {
   "cell_type": "code",
   "execution_count": 9,
   "id": "72e9b641",
   "metadata": {},
   "outputs": [],
   "source": [
    "class School:\n",
    "    def func(self):\n",
    "        print(\"This is a method inside the School Class\")\n",
    "        \n",
    "        \n",
    "class Student1(School):\n",
    "    def func1(self):\n",
    "        print(\"This is a method inside the Student1 Class\")\n",
    "        \n",
    "        \n",
    "class Student2(School):\n",
    "    def func2(self):\n",
    "        print(\"This is a method inside the Student 2 Class\")\n",
    "        \n",
    "class Student3(Student2,Student1):\n",
    "    def func3(self):\n",
    "        print(\"This is a function inside the Student 3 Class\")"
   ]
  },
  {
   "cell_type": "code",
   "execution_count": 10,
   "id": "6e2a4dab",
   "metadata": {},
   "outputs": [],
   "source": [
    "st3 = Student3()"
   ]
  },
  {
   "cell_type": "code",
   "execution_count": 11,
   "id": "837203d5",
   "metadata": {},
   "outputs": [
    {
     "name": "stdout",
     "output_type": "stream",
     "text": [
      "This is a function inside the Student 3 Class\n"
     ]
    }
   ],
   "source": [
    "st3.func3()"
   ]
  },
  {
   "cell_type": "code",
   "execution_count": 12,
   "id": "1c19422a",
   "metadata": {},
   "outputs": [
    {
     "name": "stdout",
     "output_type": "stream",
     "text": [
      "This is a method inside the Student 2 Class\n"
     ]
    }
   ],
   "source": [
    "st3.func2()"
   ]
  },
  {
   "cell_type": "code",
   "execution_count": 13,
   "id": "d359e8be",
   "metadata": {},
   "outputs": [
    {
     "name": "stdout",
     "output_type": "stream",
     "text": [
      "This is a method inside the Student1 Class\n"
     ]
    }
   ],
   "source": [
    "st3.func1()"
   ]
  },
  {
   "cell_type": "code",
   "execution_count": 14,
   "id": "69ee5fda",
   "metadata": {},
   "outputs": [
    {
     "name": "stdout",
     "output_type": "stream",
     "text": [
      "This is a method inside the School Class\n"
     ]
    }
   ],
   "source": [
    "st3.func()"
   ]
  },
  {
   "cell_type": "code",
   "execution_count": null,
   "id": "91a31ace",
   "metadata": {},
   "outputs": [],
   "source": []
  },
  {
   "cell_type": "code",
   "execution_count": 15,
   "id": "a8e4eec2",
   "metadata": {},
   "outputs": [
    {
     "data": {
      "text/plain": [
       "5"
      ]
     },
     "execution_count": 15,
     "metadata": {},
     "output_type": "execute_result"
    }
   ],
   "source": [
    "len(\"apple\")"
   ]
  },
  {
   "cell_type": "code",
   "execution_count": 16,
   "id": "fbf6008c",
   "metadata": {},
   "outputs": [
    {
     "data": {
      "text/plain": [
       "5"
      ]
     },
     "execution_count": 16,
     "metadata": {},
     "output_type": "execute_result"
    }
   ],
   "source": [
    "len([1,2,4,4,6])"
   ]
  },
  {
   "cell_type": "code",
   "execution_count": 17,
   "id": "18798445",
   "metadata": {},
   "outputs": [
    {
     "data": {
      "text/plain": [
       "3"
      ]
     },
     "execution_count": 17,
     "metadata": {},
     "output_type": "execute_result"
    }
   ],
   "source": [
    "len((10,20,40))"
   ]
  },
  {
   "cell_type": "code",
   "execution_count": 18,
   "id": "7cad664e",
   "metadata": {},
   "outputs": [],
   "source": [
    "def multiply(num1,num2):\n",
    "    return num1*num2"
   ]
  },
  {
   "cell_type": "code",
   "execution_count": 19,
   "id": "f5edffd3",
   "metadata": {},
   "outputs": [
    {
     "data": {
      "text/plain": [
       "30"
      ]
     },
     "execution_count": 19,
     "metadata": {},
     "output_type": "execute_result"
    }
   ],
   "source": [
    "multiply(10,3)"
   ]
  },
  {
   "cell_type": "code",
   "execution_count": 20,
   "id": "47584794",
   "metadata": {},
   "outputs": [],
   "source": [
    "def multiply(num1,num2,num3):\n",
    "    return num1*num2*num3"
   ]
  },
  {
   "cell_type": "code",
   "execution_count": 21,
   "id": "abfeb57e",
   "metadata": {},
   "outputs": [
    {
     "data": {
      "text/plain": [
       "60"
      ]
     },
     "execution_count": 21,
     "metadata": {},
     "output_type": "execute_result"
    }
   ],
   "source": [
    "multiply(10,2,3)"
   ]
  },
  {
   "cell_type": "code",
   "execution_count": 22,
   "id": "e2e4a570",
   "metadata": {},
   "outputs": [
    {
     "ename": "TypeError",
     "evalue": "multiply() missing 1 required positional argument: 'num3'",
     "output_type": "error",
     "traceback": [
      "\u001b[0;31m---------------------------------------------------------------------------\u001b[0m",
      "\u001b[0;31mTypeError\u001b[0m                                 Traceback (most recent call last)",
      "\u001b[0;32m<ipython-input-22-227001456184>\u001b[0m in \u001b[0;36m<module>\u001b[0;34m\u001b[0m\n\u001b[0;32m----> 1\u001b[0;31m \u001b[0mmultiply\u001b[0m\u001b[0;34m(\u001b[0m\u001b[0;36m10\u001b[0m\u001b[0;34m,\u001b[0m\u001b[0;36m4\u001b[0m\u001b[0;34m)\u001b[0m\u001b[0;34m\u001b[0m\u001b[0;34m\u001b[0m\u001b[0m\n\u001b[0m",
      "\u001b[0;31mTypeError\u001b[0m: multiply() missing 1 required positional argument: 'num3'"
     ]
    }
   ],
   "source": [
    "multiply(10,4)"
   ]
  },
  {
   "cell_type": "code",
   "execution_count": 23,
   "id": "090044a2",
   "metadata": {},
   "outputs": [],
   "source": [
    "def multiply(*num):\n",
    "    mul = 1\n",
    "    for item in num:\n",
    "        mul = mul * item\n",
    "    return mul"
   ]
  },
  {
   "cell_type": "code",
   "execution_count": 24,
   "id": "82ba259e",
   "metadata": {},
   "outputs": [
    {
     "data": {
      "text/plain": [
       "120"
      ]
     },
     "execution_count": 24,
     "metadata": {},
     "output_type": "execute_result"
    }
   ],
   "source": [
    "multiply(1,2,3,4,5)"
   ]
  },
  {
   "cell_type": "code",
   "execution_count": 25,
   "id": "48871ac8",
   "metadata": {},
   "outputs": [
    {
     "data": {
      "text/plain": [
       "6"
      ]
     },
     "execution_count": 25,
     "metadata": {},
     "output_type": "execute_result"
    }
   ],
   "source": [
    "multiply(1,2,3)"
   ]
  },
  {
   "cell_type": "code",
   "execution_count": 26,
   "id": "591508b0",
   "metadata": {},
   "outputs": [
    {
     "data": {
      "text/plain": [
       "2"
      ]
     },
     "execution_count": 26,
     "metadata": {},
     "output_type": "execute_result"
    }
   ],
   "source": [
    "multiply(1,2)"
   ]
  },
  {
   "cell_type": "code",
   "execution_count": null,
   "id": "58bdc2d3",
   "metadata": {},
   "outputs": [],
   "source": []
  },
  {
   "cell_type": "code",
   "execution_count": 27,
   "id": "8e92d705",
   "metadata": {},
   "outputs": [],
   "source": [
    "class Bird:\n",
    "    def intro(self):\n",
    "        print(\"There are different types of birds\")\n",
    "        \n",
    "    def flight(self):\n",
    "        print(\"Some birds can fly and some cannot \")\n",
    "        \n",
    "        \n",
    "class Sparrow(Bird):\n",
    "    def flight(self):\n",
    "        print(\"Sparrow can Fly\")\n",
    "\n",
    "        \n",
    "class Ostrich(Bird):\n",
    "    def flight(self):\n",
    "        print(\"Ostrich cannot fly\")"
   ]
  },
  {
   "cell_type": "code",
   "execution_count": 28,
   "id": "f1399759",
   "metadata": {},
   "outputs": [],
   "source": [
    "ost = Ostrich()"
   ]
  },
  {
   "cell_type": "code",
   "execution_count": 29,
   "id": "0711ad42",
   "metadata": {},
   "outputs": [
    {
     "name": "stdout",
     "output_type": "stream",
     "text": [
      "Ostrich cannot fly\n"
     ]
    }
   ],
   "source": [
    "ost.flight()"
   ]
  },
  {
   "cell_type": "code",
   "execution_count": 30,
   "id": "744c3175",
   "metadata": {},
   "outputs": [],
   "source": [
    "spa = Sparrow()"
   ]
  },
  {
   "cell_type": "code",
   "execution_count": 31,
   "id": "1f3e140a",
   "metadata": {},
   "outputs": [
    {
     "name": "stdout",
     "output_type": "stream",
     "text": [
      "Sparrow can Fly\n"
     ]
    }
   ],
   "source": [
    "spa.flight()"
   ]
  },
  {
   "cell_type": "code",
   "execution_count": 32,
   "id": "9be8b660",
   "metadata": {},
   "outputs": [],
   "source": [
    "brd = Bird()"
   ]
  },
  {
   "cell_type": "code",
   "execution_count": 33,
   "id": "c93ddc3f",
   "metadata": {},
   "outputs": [
    {
     "name": "stdout",
     "output_type": "stream",
     "text": [
      "Some birds can fly and some cannot \n"
     ]
    }
   ],
   "source": [
    "brd.flight()"
   ]
  },
  {
   "cell_type": "code",
   "execution_count": null,
   "id": "83efe004",
   "metadata": {},
   "outputs": [],
   "source": []
  },
  {
   "cell_type": "markdown",
   "id": "24c43fbf",
   "metadata": {},
   "source": [
    "## Encapsulation"
   ]
  },
  {
   "cell_type": "code",
   "execution_count": 34,
   "id": "3014cdf6",
   "metadata": {},
   "outputs": [],
   "source": [
    "def greet():\n",
    "    name=\"punit\"\n",
    "    return name"
   ]
  },
  {
   "cell_type": "code",
   "execution_count": 35,
   "id": "acdbf9b5",
   "metadata": {},
   "outputs": [
    {
     "data": {
      "text/plain": [
       "'punit'"
      ]
     },
     "execution_count": 35,
     "metadata": {},
     "output_type": "execute_result"
    }
   ],
   "source": [
    "greet()"
   ]
  },
  {
   "cell_type": "code",
   "execution_count": 36,
   "id": "b225c4ab",
   "metadata": {},
   "outputs": [
    {
     "ename": "NameError",
     "evalue": "name 'name' is not defined",
     "output_type": "error",
     "traceback": [
      "\u001b[0;31m---------------------------------------------------------------------------\u001b[0m",
      "\u001b[0;31mNameError\u001b[0m                                 Traceback (most recent call last)",
      "\u001b[0;32m<ipython-input-36-9ba126b17b03>\u001b[0m in \u001b[0;36m<module>\u001b[0;34m\u001b[0m\n\u001b[0;32m----> 1\u001b[0;31m \u001b[0mprint\u001b[0m\u001b[0;34m(\u001b[0m\u001b[0mname\u001b[0m\u001b[0;34m)\u001b[0m\u001b[0;34m\u001b[0m\u001b[0;34m\u001b[0m\u001b[0m\n\u001b[0m",
      "\u001b[0;31mNameError\u001b[0m: name 'name' is not defined"
     ]
    }
   ],
   "source": [
    "print(name)"
   ]
  },
  {
   "cell_type": "code",
   "execution_count": null,
   "id": "f8341145",
   "metadata": {},
   "outputs": [],
   "source": []
  },
  {
   "cell_type": "markdown",
   "id": "f410cdf8",
   "metadata": {},
   "source": [
    "### Encapsulation"
   ]
  },
  {
   "cell_type": "code",
   "execution_count": null,
   "id": "addf63dd",
   "metadata": {},
   "outputs": [],
   "source": []
  },
  {
   "cell_type": "markdown",
   "id": "28a8f3c4",
   "metadata": {},
   "source": [
    "* Encapsulation describes the idea of wrapping the data and the methods that work on     data as one unit.\n",
    "\n",
    "* This puts restrictions on accessing the variables and the methods directly & can       prevent accidental modifications of the data.\n",
    "\n",
    "\n",
    "**Protected Members** : Protected Members are those members of the class that cannot be   accessed outside the class but can be accessed within the class & it's subclass.\n",
    "\n",
    "\n",
    "\n",
    "**Private Members** : Private Members are those members of the class that cannot be       accessed outside the class nor can be accessed by any subclass.\n"
   ]
  },
  {
   "cell_type": "code",
   "execution_count": 43,
   "id": "cfeb2ecf",
   "metadata": {},
   "outputs": [],
   "source": [
    "class Base:\n",
    "    def __init__(self):\n",
    "        self.age = 23  #normal\n",
    "        self._name = \"dummy user\"  # protected variable\n",
    "        \n",
    "class Derived(Base):\n",
    "    def __init__(self):\n",
    "        Base.__init__(self)\n",
    "        print(\"Age is\",self.age)\n",
    "        print(\"Name is\",self._name)"
   ]
  },
  {
   "cell_type": "code",
   "execution_count": 44,
   "id": "96c8ffcd",
   "metadata": {},
   "outputs": [
    {
     "name": "stdout",
     "output_type": "stream",
     "text": [
      "Age is 23\n",
      "Name is dummy user\n"
     ]
    }
   ],
   "source": [
    "d1 = Derived()"
   ]
  },
  {
   "cell_type": "code",
   "execution_count": 45,
   "id": "da78e4e0",
   "metadata": {},
   "outputs": [
    {
     "data": {
      "text/plain": [
       "23"
      ]
     },
     "execution_count": 45,
     "metadata": {},
     "output_type": "execute_result"
    }
   ],
   "source": [
    "d1.age"
   ]
  },
  {
   "cell_type": "code",
   "execution_count": 46,
   "id": "a33dd215",
   "metadata": {},
   "outputs": [
    {
     "ename": "AttributeError",
     "evalue": "'Derived' object has no attribute 'name'",
     "output_type": "error",
     "traceback": [
      "\u001b[0;31m---------------------------------------------------------------------------\u001b[0m",
      "\u001b[0;31mAttributeError\u001b[0m                            Traceback (most recent call last)",
      "\u001b[0;32m<ipython-input-46-b4b047799657>\u001b[0m in \u001b[0;36m<module>\u001b[0;34m\u001b[0m\n\u001b[0;32m----> 1\u001b[0;31m \u001b[0md1\u001b[0m\u001b[0;34m.\u001b[0m\u001b[0mname\u001b[0m\u001b[0;34m\u001b[0m\u001b[0;34m\u001b[0m\u001b[0m\n\u001b[0m",
      "\u001b[0;31mAttributeError\u001b[0m: 'Derived' object has no attribute 'name'"
     ]
    }
   ],
   "source": [
    "d1.name"
   ]
  },
  {
   "cell_type": "code",
   "execution_count": 47,
   "id": "b362eb33",
   "metadata": {},
   "outputs": [
    {
     "data": {
      "text/plain": [
       "'dummy user'"
      ]
     },
     "execution_count": 47,
     "metadata": {},
     "output_type": "execute_result"
    }
   ],
   "source": [
    "d1._name"
   ]
  },
  {
   "cell_type": "markdown",
   "id": "893e4340",
   "metadata": {},
   "source": [
    "## private"
   ]
  },
  {
   "cell_type": "code",
   "execution_count": 51,
   "id": "166d5aab",
   "metadata": {},
   "outputs": [],
   "source": [
    "class Parent:\n",
    "    def __init__(self):\n",
    "        self.data = \"I am a normal variable\"\n",
    "        self.__name = \"I am a private variable\"\n",
    "        \n",
    "class Child(Parent):\n",
    "    def __init__(self):\n",
    "        Parent.__init__(self)\n",
    "        print('Data is',self.data)\n",
    "        print('Name is',self.__name)"
   ]
  },
  {
   "cell_type": "code",
   "execution_count": 52,
   "id": "5599e5f7",
   "metadata": {},
   "outputs": [
    {
     "name": "stdout",
     "output_type": "stream",
     "text": [
      "Data is I am a normal variable\n"
     ]
    },
    {
     "ename": "AttributeError",
     "evalue": "'Child' object has no attribute '_Child__name'",
     "output_type": "error",
     "traceback": [
      "\u001b[0;31m---------------------------------------------------------------------------\u001b[0m",
      "\u001b[0;31mAttributeError\u001b[0m                            Traceback (most recent call last)",
      "\u001b[0;32m<ipython-input-52-1fd4c56f7bf7>\u001b[0m in \u001b[0;36m<module>\u001b[0;34m\u001b[0m\n\u001b[0;32m----> 1\u001b[0;31m \u001b[0mch1\u001b[0m \u001b[0;34m=\u001b[0m \u001b[0mChild\u001b[0m\u001b[0;34m(\u001b[0m\u001b[0;34m)\u001b[0m\u001b[0;34m\u001b[0m\u001b[0;34m\u001b[0m\u001b[0m\n\u001b[0m",
      "\u001b[0;32m<ipython-input-51-1bfb40e1eb91>\u001b[0m in \u001b[0;36m__init__\u001b[0;34m(self)\u001b[0m\n\u001b[1;32m      8\u001b[0m         \u001b[0mParent\u001b[0m\u001b[0;34m.\u001b[0m\u001b[0m__init__\u001b[0m\u001b[0;34m(\u001b[0m\u001b[0mself\u001b[0m\u001b[0;34m)\u001b[0m\u001b[0;34m\u001b[0m\u001b[0;34m\u001b[0m\u001b[0m\n\u001b[1;32m      9\u001b[0m         \u001b[0mprint\u001b[0m\u001b[0;34m(\u001b[0m\u001b[0;34m'Data is'\u001b[0m\u001b[0;34m,\u001b[0m\u001b[0mself\u001b[0m\u001b[0;34m.\u001b[0m\u001b[0mdata\u001b[0m\u001b[0;34m)\u001b[0m\u001b[0;34m\u001b[0m\u001b[0;34m\u001b[0m\u001b[0m\n\u001b[0;32m---> 10\u001b[0;31m         \u001b[0mprint\u001b[0m\u001b[0;34m(\u001b[0m\u001b[0;34m'Name is'\u001b[0m\u001b[0;34m,\u001b[0m\u001b[0mself\u001b[0m\u001b[0;34m.\u001b[0m\u001b[0m__name\u001b[0m\u001b[0;34m)\u001b[0m\u001b[0;34m\u001b[0m\u001b[0;34m\u001b[0m\u001b[0m\n\u001b[0m",
      "\u001b[0;31mAttributeError\u001b[0m: 'Child' object has no attribute '_Child__name'"
     ]
    }
   ],
   "source": [
    "ch1 = Child()"
   ]
  },
  {
   "cell_type": "code",
   "execution_count": 53,
   "id": "cdfced45",
   "metadata": {},
   "outputs": [
    {
     "ename": "NameError",
     "evalue": "name 'ch1' is not defined",
     "output_type": "error",
     "traceback": [
      "\u001b[0;31m---------------------------------------------------------------------------\u001b[0m",
      "\u001b[0;31mNameError\u001b[0m                                 Traceback (most recent call last)",
      "\u001b[0;32m<ipython-input-53-119e79bf2768>\u001b[0m in \u001b[0;36m<module>\u001b[0;34m\u001b[0m\n\u001b[0;32m----> 1\u001b[0;31m \u001b[0mch1\u001b[0m\u001b[0;34m.\u001b[0m\u001b[0m__name\u001b[0m\u001b[0;34m\u001b[0m\u001b[0;34m\u001b[0m\u001b[0m\n\u001b[0m",
      "\u001b[0;31mNameError\u001b[0m: name 'ch1' is not defined"
     ]
    }
   ],
   "source": [
    "ch1.__name"
   ]
  },
  {
   "cell_type": "code",
   "execution_count": null,
   "id": "ab8a37d6",
   "metadata": {},
   "outputs": [],
   "source": []
  }
 ],
 "metadata": {
  "kernelspec": {
   "display_name": "Python 3",
   "language": "python",
   "name": "python3"
  },
  "language_info": {
   "codemirror_mode": {
    "name": "ipython",
    "version": 3
   },
   "file_extension": ".py",
   "mimetype": "text/x-python",
   "name": "python",
   "nbconvert_exporter": "python",
   "pygments_lexer": "ipython3",
   "version": "3.11.0"
  }
 },
 "nbformat": 4,
 "nbformat_minor": 5
}
